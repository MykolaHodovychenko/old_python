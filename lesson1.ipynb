{
  "nbformat": 4,
  "nbformat_minor": 0,
  "metadata": {
    "colab": {
      "name": "lesson4.ipynb",
      "version": "0.3.2",
      "provenance": [],
      "include_colab_link": true
    },
    "kernelspec": {
      "display_name": "Python 3",
      "language": "python",
      "name": "python3"
    }
  },
  "cells": [
    {
      "cell_type": "markdown",
      "metadata": {
        "id": "view-in-github",
        "colab_type": "text"
      },
      "source": [
        "<a href=\"https://colab.research.google.com/github/MykolaHodovychenko/python/blob/master/lesson1.ipynb\" target=\"_parent\"><img src=\"https://colab.research.google.com/assets/colab-badge.svg\" alt=\"Open In Colab\"/></a>"
      ]
    },
    {
      "metadata": {
        "id": "tJ1D4g1xnwOA",
        "colab_type": "text"
      },
      "cell_type": "markdown",
      "source": [
        "# Пример 1. Распознавание цветов ириса\n",
        "\n"
      ]
    },
    {
      "metadata": {
        "id": "llAmcYyynwOB",
        "colab_type": "text"
      },
      "cell_type": "markdown",
      "source": [
        "Импортируем библиотеки и отдельные модули **pandas**, **numpy**, **scikit-learn** и **matplotlib**"
      ]
    },
    {
      "metadata": {
        "id": "wQOjQ2gXnwOB",
        "colab_type": "code",
        "colab": {}
      },
      "cell_type": "code",
      "source": [
        "# Работа с n-мерными массивами\n",
        "import numpy as np\n",
        "# Работа с DataFrame\n",
        "import pandas as pd\n",
        "# Построение графиков\n",
        "import matplotlib.pyplot as plt\n",
        "# Класс, реализующий метод k-ближайших соседей\n",
        "from sklearn.neighbors import KNeighborsClassifier\n",
        "# Модуль для разбиения выборки на обучающую и тестовую\n",
        "from sklearn.model_selection import train_test_split"
      ],
      "execution_count": 0,
      "outputs": []
    },
    {
      "metadata": {
        "id": "wfczgTY5nwOD",
        "colab_type": "text"
      },
      "cell_type": "markdown",
      "source": [
        "Данные для импорта находятся в формате CSV.\n",
        "\n",
        "CSV (от англ. Comma-Separated Values — значения, разделённые запятыми) — текстовый формат, предназначенный для представления табличных данных. \n",
        "\n",
        "Для загрузки данных в **DataFrame** используем метод **pandas.DataFrame.read_csv()**. Метод считывает данные в формате CSV и возвращает объект класса **DataFrame**.\n",
        "\n",
        "Атрибут **DataFrame.shape** возвращает размерность **DataFrame**."
      ]
    },
    {
      "metadata": {
        "id": "W9HhBTcOnwOE",
        "colab_type": "code",
        "outputId": "9001e4ae-2f79-4816-d8e8-135469ce3b4c",
        "colab": {
          "base_uri": "https://localhost:8080/",
          "height": 52
        }
      },
      "cell_type": "code",
      "source": [
        "# Считываем данные в формате CSV\n",
        "dataset = pd.read_csv(\"https://raw.githubusercontent.com/MykolaHodovychenko/python/master/iris.data\")\n",
        "# Выводим тип данных объекта dataset\n",
        "print(type(dataset))\n",
        "# Атрибут shape выводит размерность DataFrame\n",
        "dataset.shape"
      ],
      "execution_count": 3,
      "outputs": [
        {
          "output_type": "stream",
          "text": [
            "<class 'pandas.core.frame.DataFrame'>\n"
          ],
          "name": "stdout"
        },
        {
          "output_type": "execute_result",
          "data": {
            "text/plain": [
              "(150, 5)"
            ]
          },
          "metadata": {
            "tags": []
          },
          "execution_count": 3
        }
      ]
    },
    {
      "metadata": {
        "id": "XAsojNX9nwOH",
        "colab_type": "text"
      },
      "cell_type": "markdown",
      "source": [
        "Чтобы посмотреть, правильно ли метод **read_csv** импортировал наши данные, выведем на экран некоторые элементы **DataFrame**.\n",
        "\n",
        "Выведем первые 10 элементов **DataFrame** с помощью метода **pandas.DataFrame.head(n)**, где _n_ - количество элементов."
      ]
    },
    {
      "metadata": {
        "id": "9GA7Q3WInwOH",
        "colab_type": "code",
        "outputId": "0af95179-1f47-4649-ca93-80229263db9e",
        "colab": {
          "base_uri": "https://localhost:8080/",
          "height": 210
        }
      },
      "cell_type": "code",
      "source": [
        "# Выведем в консоль первые 10 элементов с помощью метода head()\n",
        "print(dataset.head(10))"
      ],
      "execution_count": 4,
      "outputs": [
        {
          "output_type": "stream",
          "text": [
            "   sepal len(cm)  sepal wid(cm)  petal len(cm)  petal wid(cm)        names\n",
            "0            5.1            3.5            1.4            0.2  Iris-setosa\n",
            "1            4.9            3.0            1.4            0.2  Iris-setosa\n",
            "2            4.7            3.2            1.3            0.2  Iris-setosa\n",
            "3            4.6            3.1            1.5            0.2  Iris-setosa\n",
            "4            5.0            3.6            1.4            0.2  Iris-setosa\n",
            "5            5.4            3.9            1.7            0.4  Iris-setosa\n",
            "6            4.6            3.4            1.4            0.3  Iris-setosa\n",
            "7            5.0            3.4            1.5            0.2  Iris-setosa\n",
            "8            4.4            2.9            1.4            0.2  Iris-setosa\n",
            "9            4.9            3.1            1.5            0.1  Iris-setosa\n"
          ],
          "name": "stdout"
        }
      ]
    },
    {
      "metadata": {
        "id": "TBpezJjvnwOK",
        "colab_type": "text"
      },
      "cell_type": "markdown",
      "source": [
        "Для наглядной визуализации данных возьмем 1 и 3 признак (для 2D графика) и выведем признаки для трех классов в виде **диаграммы рассеяния (scatter plot)**. \n",
        "\n",
        "**Диаграмма рассеяния** - математическая диаграмма, изображающая значения двух переменных в виде точек на декартовой плоскости.\n",
        "\n",
        "Два признака можно передать напрямую из **DataFrame**, но давайте выделим 1 и 3 признак в отдельный массив. \n",
        "\n",
        "Для извлечения данных из DataFrame используется метод **pandas.DataFrame.iloc**. Метод **iloc** позволяет нам извлекать строки и столбцы по их местоположению. Для указания столбцов и строк используется механизм слайсов (slices).\n",
        "\n",
        "Атрибут **values** возвращает данные, хранящиеся в DataFrame, в виде двумерного массива **ndarray**."
      ]
    },
    {
      "metadata": {
        "id": "EvtYgnLtnwOM",
        "colab_type": "code",
        "outputId": "356bd052-f2cf-4ed4-ea57-bdebfcedc71e",
        "colab": {}
      },
      "cell_type": "code",
      "source": [
        "# Извлекаем все строки [:] и столбцы 0 и 2 [0,2]\n",
        "# в отдельный DataFrame.\n",
        "# Атрибут values возвращает DataFrame в виде ndarray\n",
        "# (n-мерный) массив numpy\n",
        "fset = dataset.iloc[: ,[0,2]].values\n",
        "type(fset)"
      ],
      "execution_count": 0,
      "outputs": [
        {
          "output_type": "execute_result",
          "data": {
            "text/plain": [
              "numpy.ndarray"
            ]
          },
          "metadata": {
            "tags": []
          },
          "execution_count": 29
        }
      ]
    },
    {
      "metadata": {
        "id": "Nu6t6drlnwOO",
        "colab_type": "text"
      },
      "cell_type": "markdown",
      "source": [
        "Теперь нам необходимо вывести на экран диаграмму рассеяния двух параметров для трех классов (сорта ириса).\n",
        "\n",
        "Для построения диаграммы рассеяния используем подключенный модуль **matplotlib.pyplot**, который представляет собой набор процедурных функций в стиле MATLAB.\n",
        "\n",
        "**Pyplot** работает следующим образом - каждый вызов функции из модуля **pyplot** изменяет график - добавляет данные, добавляет подписи к осям, изменяет цвет и форму точек в диаграмме и так далее.\n",
        "\n",
        "После вызова всех нужных функций, вызывается метод **pyplot.show()**, который показыват настроенный и сконфигурированный график или диаграмму.\n",
        "\n",
        "Приведем пример диаграммы рассеяния."
      ]
    },
    {
      "metadata": {
        "id": "_fydqykGnwOP",
        "colab_type": "code",
        "outputId": "f0825e44-b5a3-4b4a-a02a-57e4e83337e6",
        "colab": {}
      },
      "cell_type": "code",
      "source": [
        "plt.scatter([1,2,3],[3,4,5], label=\"класс 1\") # Добавляем точки для 1 класса\n",
        "plt.scatter([5,6,7],[7,8,9], label=\"класс 2\") # Добавляем точки для 2 класса\n",
        "plt.scatter([10,11,12],[20,21,22], label=\"класс 3\")# Добавляем точки для 3 класса\n",
        "plt.xlabel(\"Подпись для оси Х\") # Добавляем подпись для оси Х\n",
        "plt.ylabel(\"Подпись для оси Y\") # Добавляем подпись для оси Y\n",
        "plt.legend(loc=\"upper left\") # Добавляем легенду\n",
        "plt.title(\"Пример диаграммы рассеяния\") # Добавляем заголовок\n",
        "plt.show() # Выводим на экран сконфигурированную диаграмму"
      ],
      "execution_count": 0,
      "outputs": [
        {
          "output_type": "display_data",
          "data": {
            "image/png": "[encoded data removed]",
            "text/plain": [
              "<matplotlib.figure.Figure at 0xbe254a8>"
            ]
          },
          "metadata": {
            "tags": []
          }
        }
      ]
    },
    {
      "metadata": {
        "id": "8YoPysIYnwOR",
        "colab_type": "text"
      },
      "cell_type": "markdown",
      "source": [
        "Для добавления данных в диаграмму вызывается метод **pyplot.scatter(x, y)**, которому нужно передать точки для x и y. Дополнительно вы можете указать много различных параметров, включая цвет точек, форму маркера, подпись для легенды и так далее.\n",
        "\n",
        "Каждый вызов метода **pyplot.scatter(x, y)** означает добавление данных нового класса. В наших данных у нас существует три класса, поэтому вызываем метод **scatter()** три раза и указываем данные для каждого класса.\n",
        "\n",
        "В нашей выборке содержится 150 экземпляров - по 50 экземпляров для каждого класса. По оси X отолжим точки из первой колонки, по оси Y - из второй колонки.\n",
        "\n",
        "После этого добавим подписи к осям, легенду, заголовок диаграммы и выведем это все на экран."
      ]
    },
    {
      "metadata": {
        "id": "syylc_OknwOS",
        "colab_type": "code",
        "outputId": "c0fc1968-bd14-4b65-c56c-a24c98a5ecbd",
        "colab": {}
      },
      "cell_type": "code",
      "source": [
        "# Указываем точки первого класса\n",
        "plt.scatter(fset[:50, 0], fset[:50,1], color='red', marker='x', label=\"Ирис щетинистый\")\n",
        "# Указываем точки второго класса\n",
        "plt.scatter(fset[50:100, 0], fset[50:100, 1], color='blue', marker='o', label=\"Ирис разноцветный\")\n",
        "# Указываем точки третьего класса\n",
        "plt.scatter(fset[100:, 0],fset[100:, 1], color='brown', marker='*', label=\"Ирис виргинский\")\n",
        "# Добавляем подпись для оси X\n",
        "plt.xlabel('Длина чашелистика')\n",
        "# Добавляем подпись для оси Y\n",
        "plt.ylabel('Длина лепестка')\n",
        "# Добавляем легенду\n",
        "plt.legend(loc='upper left')\n",
        "# Добавляем заголовок к диаграмме\n",
        "plt.title(\"Диаграмма рассеяния для двух параметров из выборки 'Ирисы Фишера'\")\n",
        "# выводим диаграмму на экран\n",
        "plt.show()"
      ],
      "execution_count": 0,
      "outputs": [
        {
          "output_type": "display_data",
          "data": {
            "image/png": "[encoded data removed]",
            "text/plain": [
              "<matplotlib.figure.Figure at 0xa8799b0>"
            ]
          },
          "metadata": {
            "tags": []
          }
        }
      ]
    },
    {
      "metadata": {
        "id": "f2nBVX20nwOU",
        "colab_type": "text"
      },
      "cell_type": "markdown",
      "source": [
        "Следующй шаг - нам необходимо **разбить выборку на обучающую и тестовую**. Для этого у нас есть специальная функция, но\n",
        "нам необходимо подготовить наши данные для работы с этой функцией. \n",
        "\n",
        "Сперва выделим из нашей выборки (dataset) массив с признаками и массив с ответами. Для этого воспользуемся уже известным нам методом **iloc()** и атрибутом **values**"
      ]
    },
    {
      "metadata": {
        "id": "24V-j9cxnwOV",
        "colab_type": "code",
        "outputId": "32e481d9-6f76-47b3-fe30-b1d4feb40afb",
        "colab": {}
      },
      "cell_type": "code",
      "source": [
        "# Извлекаем все строки и колонки с 0 по 3 включительно и заносим в ndarray\n",
        "x = dataset.iloc[:, :4].values\n",
        "# Извлекаем все строки и колонку 4 и заносим в ndarray\n",
        "y = dataset.iloc[:, 4].values\n",
        "\n",
        "# Выведем в консоль элементы для проверки правильности разбиения\n",
        "print(\"Массив с признаками\")\n",
        "print(x[0:10])\n",
        "print(\"Массив с ответами\")\n",
        "print(y[0:10])"
      ],
      "execution_count": 0,
      "outputs": [
        {
          "output_type": "stream",
          "text": [
            "Массив с признаками\n",
            "[[ 5.1  3.5  1.4  0.2]\n",
            " [ 4.9  3.   1.4  0.2]\n",
            " [ 4.7  3.2  1.3  0.2]\n",
            " [ 4.6  3.1  1.5  0.2]\n",
            " [ 5.   3.6  1.4  0.2]\n",
            " [ 5.4  3.9  1.7  0.4]\n",
            " [ 4.6  3.4  1.4  0.3]\n",
            " [ 5.   3.4  1.5  0.2]\n",
            " [ 4.4  2.9  1.4  0.2]\n",
            " [ 4.9  3.1  1.5  0.1]]\n",
            "Массив с ответами\n",
            "['Iris-setosa' 'Iris-setosa' 'Iris-setosa' 'Iris-setosa' 'Iris-setosa'\n",
            " 'Iris-setosa' 'Iris-setosa' 'Iris-setosa' 'Iris-setosa' 'Iris-setosa']\n"
          ],
          "name": "stdout"
        }
      ]
    },
    {
      "metadata": {
        "id": "ipysO819nwOX",
        "colab_type": "text"
      },
      "cell_type": "markdown",
      "source": [
        "Названия классов в массиве y называют \"категориальными\", то есть они описывают факт принадлежности к какой-то категории. Так как алгоритмы машинного обучения оперируют цифрами, нам необходимо закодировать названия классов какими-то числовыми значениями.\n",
        "\n",
        "То есть: \n",
        "- вместо класса **'Iris-setosa'** необходимо подставить **0**;\n",
        "- вместо класса **'Iris-versicolor'** необходимо подставить **1**;\n",
        "- вместо класса **'Iris-virginica'** необходимо подставить **2**.\n",
        "\n",
        "Это можно сделать с помощью готового кодировщика - класса **LabelEncoder** из библиотеки **sklearn.preprocessing**. Но мы поступим иначе и используем метод **numpy.where()**.\n",
        "\n",
        "Метод **numpy.where(condition, x, y)** - возвращает **x**, если **condition** равно **true**; возвращает **y**, если **condition** равно **false**. То есть, **condition** - это некоторое булевое условие. Если оно выполняется, значение элемента изменится на **x**, если же условие не выполняется, значение элемента изменится на **y**.\n",
        "\n",
        "В нашем случае, необходимо обойти каждый элемент массива и проверить, равен ли этот элемент названию класса. Если элемент массив равен названию класса, мы меняем значение на какое-то число. Если же условие не выполняется - значение остается неизменным."
      ]
    },
    {
      "metadata": {
        "id": "0UFnu5Y5nwOY",
        "colab_type": "code",
        "colab": {}
      },
      "cell_type": "code",
      "source": [
        "# Вместо 'Iris-setosa' подставляем 0\n",
        "y = np.where(y == 'Iris-setosa', 0, y)\n",
        "# Вместо 'Iris-versicolor' подставляем 1\n",
        "y = np.where(y == 'Iris-versicolor', 1, y)\n",
        "# Вместо 'Iris-virginica' подставляем 2\n",
        "y = np.where(y == 'Iris-virginica', 2, y)"
      ],
      "execution_count": 0,
      "outputs": []
    },
    {
      "metadata": {
        "id": "GHi0aOLLnwOa",
        "colab_type": "text"
      },
      "cell_type": "markdown",
      "source": [
        "Для проверки результата - выведем на экран элементы массива **y**"
      ]
    },
    {
      "metadata": {
        "id": "K-pga39LnwOa",
        "colab_type": "code",
        "outputId": "42877b14-d751-46f8-cd0f-82752564749d",
        "colab": {}
      },
      "cell_type": "code",
      "source": [
        "# Выведем элементы на границе 1 и 2 классов\n",
        "print(y[47:52])\n",
        "# Выведем элементы на границе 2 и 3 классов\n",
        "print(y[97:102])"
      ],
      "execution_count": 0,
      "outputs": [
        {
          "output_type": "stream",
          "text": [
            "[0 0 0 1 1]\n",
            "[1 1 1 2 2]\n"
          ],
          "name": "stdout"
        }
      ]
    },
    {
      "metadata": {
        "id": "zPTZe8fenwOe",
        "colab_type": "text"
      },
      "cell_type": "markdown",
      "source": [
        "Для корректной работы алгоритма обучения преобразуем **y** из типа **ndarray** в тип **list**"
      ]
    },
    {
      "metadata": {
        "id": "w3rhuWO0nwOe",
        "colab_type": "code",
        "colab": {}
      },
      "cell_type": "code",
      "source": [
        "y = list(y)"
      ],
      "execution_count": 0,
      "outputs": []
    },
    {
      "metadata": {
        "id": "xiv8td30nwOi",
        "colab_type": "text"
      },
      "cell_type": "markdown",
      "source": [
        "Теперь данные преобразованы в нужный формат и мы можем разделить выборку на обучающую и тестовую.\n",
        "\n",
        "Для этого используем метод **sklearn.model_selection.train_test_split()**.\n",
        "\n",
        "В качестве входных аргументов необходимо передать: массив с признаками, массив с ответами (массив с принадлежностями экземпляра к некоторому классу). \n",
        "\n",
        "Также можно указать множество дополнительных аргументов. Мы укажем аргумент **random_state**, который позволяет указать \"соль\" - специальное значение для инициализации алгоритма генерации псевдослучайных чисел. Аргумент **random_state** позволяет воспроизвести разбиение данных для повторения эксперимента.\n",
        "\n",
        "Подробнее про метод **train_test_split()** читайте [здесь](https://goo.gl/dJXcNz)\n",
        "\n",
        "Метод **train_test_split()** возвращает массивы с разбитыми данными. Список параметров следующий (по порядку):\n",
        "- массив признаков обучающей выборки;\n",
        "- массив признаков тестовой выборки;\n",
        "- массив с ответами обучающей выборки;\n",
        "- массив с ответами тестовой выборки."
      ]
    },
    {
      "metadata": {
        "id": "BKmJiuARnwOj",
        "colab_type": "code",
        "colab": {}
      },
      "cell_type": "code",
      "source": [
        "# train_x - массив признаков обучающей выборки\n",
        "# test_x - массив признаков тестовой выборки\n",
        "# train_y - массив с ответами обучающей выборки\n",
        "# test_y - массив с ответами тестовой выборки\n",
        "train_x, test_x, train_y, test_y = train_test_split(x, y, random_state=3)"
      ],
      "execution_count": 0,
      "outputs": []
    },
    {
      "metadata": {
        "id": "hl6uHJl9nwOk",
        "colab_type": "text"
      },
      "cell_type": "markdown",
      "source": [
        "После вызова метода **train_test_split()** мы получим готовые массивы с разбитыми данными.\n",
        "\n",
        "Теперь переходим непосредственно к выбору метода классификации и будем его обучать. Для первого примера возьмем самый простой и наглядный, но достаточно эффективный метод, который называется **Метод k-ближайших соседей** (**k-nearest neighbors** или просто **KNN**).\n",
        "\n",
        "Метод работает очень просто - **он относит объекты к классу, которому принадлежит большинство из k его ближайших соседей в многомерном пространстве признаков**.\n",
        "\n",
        "Для ознакомления с работой метода рекомендую вам прочитать простые и понятные материалы о работе метода: [краткое описание](https://goo.gl/r8L5gh), [подробное описание](https://goo.gl/ErgK1H).\n",
        "\n",
        "Вас не должна вводить в заблуждение кажущаяся простота метода и его описания в материалах выше - метод имеет много параметров (количество соседей, метрика расстояния, веса элементов и т.д.), модификаций и улучшений - помните об этом.\n",
        "\n",
        "В нашем простом примере мы будем использовать \"дефолтный\" метод с параметрами по умолчанию. Изменим только количество ближайших соседей - один из основных параметров метода.\n",
        "\n",
        "Классификатор KNN доступен нам в класса **sklearn.neighbors.KNeighborsClassifier**. При создании объекта классы мы можем в конструкторе передать нужные нам параметры. Если параметр не будет указан - будет взять значение по-умолчанию."
      ]
    },
    {
      "metadata": {
        "id": "oDtvmhiknwOl",
        "colab_type": "code",
        "colab": {}
      },
      "cell_type": "code",
      "source": [
        "# Создаем объект класса KNeighborsClassifier, указываем количество соседей\n",
        "knn = KNeighborsClassifier(n_neighbors=1)"
      ],
      "execution_count": 0,
      "outputs": []
    },
    {
      "metadata": {
        "id": "Ay9ueaHAnwOo",
        "colab_type": "text"
      },
      "cell_type": "markdown",
      "source": [
        "После этого, нам необходимо \"обучить\" нашу модель. Для этого используется вызываетмя метод fit() у созданного нами объекта. В качестве входных параметров мы передаем массив признаков обучающей выборки и массив с классами обучающей выборки. "
      ]
    },
    {
      "metadata": {
        "id": "yM-vGzRcnwOp",
        "colab_type": "code",
        "outputId": "d4626bca-5c62-412c-da01-ee1e8bedc4f9",
        "colab": {}
      },
      "cell_type": "code",
      "source": [
        "# Обучаем нашу модель, передаем данные для обучения с учителем\n",
        "knn.fit(train_x,train_y)"
      ],
      "execution_count": 0,
      "outputs": [
        {
          "output_type": "execute_result",
          "data": {
            "text/plain": [
              "KNeighborsClassifier(algorithm='auto', leaf_size=30, metric='minkowski',\n",
              "           metric_params=None, n_jobs=1, n_neighbors=1, p=2,\n",
              "           weights='uniform')"
            ]
          },
          "metadata": {
            "tags": []
          },
          "execution_count": 38
        }
      ]
    },
    {
      "metadata": {
        "id": "BJmGoorsnwOr",
        "colab_type": "text"
      },
      "cell_type": "markdown",
      "source": [
        "Вот и всё, у нас есть готовая обученная модель. Теперь наша задача - проверить ее эффективность.\n",
        "\n",
        "В качестве метрики \"эффективности\" модели просто посчитаем процент успешного распознавания. \n",
        "Алгоритм измерения эффективности модели следующий:\n",
        "1. подаем на вход модели массив с признаками тестовой выборки (массив **test_x**);\n",
        "2. получаем массив предсказаний модели;\n",
        "3. сравнивем предсказанные классы с заранее известными классами (массив **test_y**).\n",
        "\n",
        "Но для начала попробуем подать на вход модели один экземпляр и получим прогноз - к какому классу он относится. Для получения прогноза используем метод **predict()**, который принимает на вход экземпляры данных, а возвращает предсказанные значения их классов."
      ]
    },
    {
      "metadata": {
        "id": "kNPiLIfynwOt",
        "colab_type": "code",
        "outputId": "c617ff3d-cbc4-4374-f66a-c96a947ac7ec",
        "colab": {}
      },
      "cell_type": "code",
      "source": [
        "# Получаем \"предсказание\" для первого экземпляра из массива test_x\n",
        "prediction = knn.predict(test_x[:1])\n",
        "\n",
        "# Выводим в консоль настоящее значение и прогнозное\n",
        "print(\"Актуальное значение: класс \" + str(test_y[0]))\n",
        "print(\"Предсказанное значение: класс \" + str(prediction))"
      ],
      "execution_count": 0,
      "outputs": [
        {
          "output_type": "stream",
          "text": [
            "Актуальное значение: класс 0\n",
            "Предсказанное значение: класс [0]\n"
          ],
          "name": "stdout"
        }
      ]
    },
    {
      "metadata": {
        "id": "_oxowaOInwOu",
        "colab_type": "text"
      },
      "cell_type": "markdown",
      "source": [
        "Теперь попробуем получить показатель эффективности предсказания нашей модели. Вручную делать это не стоит - для этого есть специальный метод **score()**, который вызывается у объекта нашей модели. Метод принимает два массива тестовой выборки (массив с признаками и массив с классами) и возвращает значение точности прогноза модели."
      ]
    },
    {
      "metadata": {
        "id": "_5tXDl8gnwOv",
        "colab_type": "code",
        "outputId": "9e008c92-df08-4a53-b71e-c9f9067607c4",
        "colab": {}
      },
      "cell_type": "code",
      "source": [
        "score = knn.score(test_x, test_y)\n",
        "print(\"Процент успешного прогноза модели: \" + str(score))"
      ],
      "execution_count": 0,
      "outputs": [
        {
          "output_type": "stream",
          "text": [
            "Процент успешного прогноза модели: 0.947368421053\n"
          ],
          "name": "stdout"
        }
      ]
    }
  ]
}